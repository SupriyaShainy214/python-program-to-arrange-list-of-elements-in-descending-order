{
 "cells": [
  {
   "cell_type": "code",
   "execution_count": null,
   "metadata": {},
   "outputs": [],
   "source": [
    "L1=[10,6,7,5,9,11]\n",
    "L2=[]\n",
    "def findmax(list):\n",
    "    maxvalue=list[0]\n",
    "    for _ in list:\n",
    "        if _>=maxvalue:\n",
    "            maxvalue = _\n",
    "    L1.remove(maxvalue)\n",
    "    L2.append(maxvalue)\n",
    "\n",
    "for _ in range(len(L1)):\n",
    "    findmax(L1)"
   ]
  }
 ],
 "metadata": {
  "language_info": {
   "name": "python"
  }
 },
 "nbformat": 4,
 "nbformat_minor": 2
}
